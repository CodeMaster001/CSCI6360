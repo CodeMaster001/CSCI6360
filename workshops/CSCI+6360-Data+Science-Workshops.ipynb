{
 "cells": [
  {
   "cell_type": "markdown",
   "metadata": {},
   "source": [
    " This is a workshop on H2O,a library that is used extensively in the production environment, widely used in healthcare and finance\n",
    "\n",
    "Here is its OFFICIAL WEBSITE\n",
    "\n",
    "https://www.h2o.ai\n",
    "\n",
    " \n",
    "First, lets create a seperate environment for h2o in Anaconda and performs a switch to that environment.\n",
    "\n",
    "conda create --name h2o-py python=3.5 h2o h2o-py\n",
    "\n",
    "As,I am currently in Mac , I would like to use a UI as I am a bit confortable with it , reducing complexity is nice !!!\n",
    "\n",
    "\n",
    "\n",
    "What is h2o?\n",
    "\n",
    "A library which is used for building machine learning models at ease on huge dataset.It supports mxnet, \n",
    "tensorflow and caffe. It is not an alternative for any of those,\n",
    "its just exends the backent (h2o.ai!!)\n",
    "\n",
    "Other examples that work like h2o is keras.\n",
    "\n",
    "We are now going to import h2o inside python\n"
   ]
  },
  {
   "cell_type": "code",
   "execution_count": null,
   "metadata": {
    "collapsed": true
   },
   "outputs": [],
   "source": [
    "import h2o\n",
    "\n",
    "h2o.init() #initialize h2o cluster\n",
    "\n",
    "#Once h2o is initialized it actually automatically sets up the spark cluster if spark is configured as a backend, \n",
    "#applies same for mxnet and tensorflow\n",
    "\n"
   ]
  },
  {
   "cell_type": "markdown",
   "metadata": {},
   "source": [
    "Once h2o is initialized it actually automatically sets up the spark cluster, if spark is configured as a backend, \n",
    "applies same for mxnet, tensorflow and theano backends. We will discuss shortly spark configuration. \n",
    "\n",
    "In our current workshop we will be using autoencoders as our model for training and testing."
   ]
  }
 ],
 "metadata": {
  "kernelspec": {
   "display_name": "Python 3",
   "language": "python",
   "name": "python3"
  },
  "language_info": {
   "codemirror_mode": {
    "name": "ipython",
    "version": 3
   },
   "file_extension": ".py",
   "mimetype": "text/x-python",
   "name": "python",
   "nbconvert_exporter": "python",
   "pygments_lexer": "ipython3",
   "version": "3.5.4"
  }
 },
 "nbformat": 4,
 "nbformat_minor": 2
}
