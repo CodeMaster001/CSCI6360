{
 "cells": [
  {
   "cell_type": "markdown",
   "metadata": {},
   "source": [
    "First let us discuss what exactly are AutoEncoders ?"
   ]
  },
  {
   "cell_type": "code",
   "execution_count": null,
   "metadata": {
    "scrolled": true
   },
   "outputs": [],
   "source": [
    "# Autoendoer using H2o\n",
    "\n",
    "#CSCI6360 H2O WORKSHOP                                         \n",
    "\n",
    "from IPython.display import Image,display\n",
    "from IPython.core.display import HTML \n",
    "import matplotlib.pyplot as plot\n",
    "from h2o.estimators.deeplearning import H2ODeepLearningEstimator\n",
    "from h2o.grid.grid_search import H2OGridSearch\n",
    "\n",
    "\n",
    "\n",
    "img = Image(url=\"images/autoencoder_structure.png\")\n",
    "\n",
    "img_1 = Image(url=\"images/autoencoder_equation.png\")\n",
    "\n",
    "\n",
    "display(img)\n",
    "\n",
    "display(img_1)\n"
   ]
  },
  {
   "cell_type": "markdown",
   "metadata": {},
   "source": [
    "This is a workshop on H2O,a library that is used extensively in the production environment, widely used in healthcare and finance\n",
    "\n",
    "Here is its OFFICIAL WEBSITE\n",
    "\n",
    "https://www.h2o.ai\n",
    "\n",
    " \n",
    "First, lets create a seperate environment for h2o in Anaconda and performs a switch to that environment.\n",
    "\n",
    "conda create --name h2o-py python=3.5 h2o h2o-py\n",
    "\n",
    "As,I am currently in Mac , I would like to use a UI as I am a bit confortable with it , reducing complexity is nice !!!\n",
    "\n",
    "\n",
    "\n",
    "What is h2o?\n",
    "\n",
    "A library which is used for building machine learning models at ease on huge dataset.It supports mxnet, \n",
    "tensorflow and caffe. It is not an alternative for any of those,\n",
    "its just exends the backent (h2o.ai!!)\n",
    "\n",
    "Other examples that work like h2o is keras.\n",
    "\n"
   ]
  },
  {
   "cell_type": "markdown",
   "metadata": {},
   "source": [
    "We are now going to import h2o inside python\n",
    "\n",
    "Adventages of having h2o :\n",
    "\n",
    "1.Notable adventages variation in Stochastic Gradient descent implementation\n",
    "H2O SGD algorithm is executed in parallel across all cores. The training set is also distributed across all nodes.\n",
    "At the final an average is taken of all the values.\n",
    "\n",
    "For more detials on Page 16.\n",
    "\n",
    "http://docs.h2o.ai/h2o/latest-stable/h2o-docs/booklets/DeepLearningBooklet.pdf\n",
    "\n",
    "Lets start h2o programming\n"
   ]
  },
  {
   "cell_type": "code",
   "execution_count": null,
   "metadata": {
    "scrolled": false
   },
   "outputs": [],
   "source": [
    "import h2o\n",
    "\n",
    "h2o.init() #initialize h2o cluster\n",
    "\n",
    "#Once h2o is initialized it actually automatically sets up the spark cluster if spark is configured as a backend, \n",
    "#applies same for mxnet and tensorflow\n",
    "\n"
   ]
  },
  {
   "cell_type": "markdown",
   "metadata": {},
   "source": [
    "Once h2o is initialized it actually automatically sets up the spark cluster, if spark is configured as a backend, \n",
    "applies same for mxnet, tensorflow and theano backends. We will discuss shortly how to use spark.\n",
    "\n",
    "Now lets see our cluster status info."
   ]
  },
  {
   "cell_type": "code",
   "execution_count": null,
   "metadata": {
    "scrolled": false
   },
   "outputs": [],
   "source": [
    "h2o.cluster().show_status()"
   ]
  },
  {
   "cell_type": "code",
   "execution_count": null,
   "metadata": {},
   "outputs": [],
   "source": [
    "h2o.ls()\n",
    "#this line of code displays the list of content present in an h2o cluster.Since there are no files in the cluster, \n",
    "#the key argument is empty"
   ]
  },
  {
   "cell_type": "code",
   "execution_count": null,
   "metadata": {
    "scrolled": true
   },
   "outputs": [],
   "source": [
    "#Now lets import a file to H2o cluster\n",
    "\n",
    "h2o.import_file(\"LICENSE\")"
   ]
  },
  {
   "cell_type": "code",
   "execution_count": null,
   "metadata": {},
   "outputs": [],
   "source": [
    "h2o.ls() #as you can see there are files here #but we have found duplicates as we have \n",
    "#called h2o.import_file two times"
   ]
  },
  {
   "cell_type": "code",
   "execution_count": null,
   "metadata": {
    "collapsed": true
   },
   "outputs": [],
   "source": [
    "h2o.remove(\"LICENSE1.hex\") #REMOVE THE LICENSE FILE"
   ]
  },
  {
   "cell_type": "code",
   "execution_count": null,
   "metadata": {},
   "outputs": [],
   "source": [
    "h2o.ls()"
   ]
  },
  {
   "cell_type": "code",
   "execution_count": null,
   "metadata": {
    "scrolled": true
   },
   "outputs": [],
   "source": [
    "help(h2o.import_file)"
   ]
  },
  {
   "cell_type": "markdown",
   "metadata": {},
   "source": [
    "Lets load the minst training dataset"
   ]
  },
  {
   "cell_type": "code",
   "execution_count": null,
   "metadata": {
    "scrolled": true
   },
   "outputs": [],
   "source": [
    "train = h2o.import_file(\"data/ecg_discord_train.csv\")\n"
   ]
  },
  {
   "cell_type": "markdown",
   "metadata": {},
   "source": [
    "Lets load the heart disease dataset"
   ]
  },
  {
   "cell_type": "code",
   "execution_count": null,
   "metadata": {
    "scrolled": true
   },
   "outputs": [],
   "source": [
    "test = h2o.import_file(\"data/ecg_discord_test.csv\")"
   ]
  },
  {
   "cell_type": "code",
   "execution_count": null,
   "metadata": {
    "collapsed": true
   },
   "outputs": [],
   "source": [
    " model = H2ODeepLearningEstimator(activation=\"RectifierWithDropout\",\n",
    "                                  hidden=[32,32,32],\n",
    "                                  autoencoder=True,input_dropout_ratio=0.2,sparse=True,l1=1e-5,epochs=10)"
   ]
  },
  {
   "cell_type": "code",
   "execution_count": null,
   "metadata": {
    "scrolled": true
   },
   "outputs": [],
   "source": [
    "model.train(x=train.names,training_frame=train,validation_frame=test)"
   ]
  },
  {
   "cell_type": "code",
   "execution_count": null,
   "metadata": {
    "scrolled": true
   },
   "outputs": [],
   "source": [
    " model.anomaly(test)"
   ]
  },
  {
   "cell_type": "code",
   "execution_count": null,
   "metadata": {
    "collapsed": true
   },
   "outputs": [],
   "source": [
    "model_path = h2o.save_model(model = model,force = True)"
   ]
  },
  {
   "cell_type": "code",
   "execution_count": null,
   "metadata": {},
   "outputs": [],
   "source": [
    "print(model_path)"
   ]
  },
  {
   "cell_type": "code",
   "execution_count": null,
   "metadata": {
    "collapsed": true
   },
   "outputs": [],
   "source": [
    "saved_model = h2o.load_model(model_path)"
   ]
  },
  {
   "cell_type": "code",
   "execution_count": null,
   "metadata": {},
   "outputs": [],
   "source": [
    "print(saved_model)"
   ]
  },
  {
   "cell_type": "code",
   "execution_count": null,
   "metadata": {},
   "outputs": [],
   "source": [
    " hyper_parameters = {'input_dropout_ratio':[0.1,0.2,0.5,0.7]}\n",
    "                                            \n",
    "h2o_gridSearch = H2OGridSearch(H2ODeepLearningEstimator(activation=\"RectifierWithDropout\",\n",
    "                                  hidden=[32,32,32],\n",
    "                                  autoencoder=True,sparse=True,l1=1e-5,epochs=10),hyper_parameters)\n",
    "\n",
    "h2o_gridSearch.train(x=train.names,training_frame=train,validation_frame=test)\n"
   ]
  },
  {
   "cell_type": "code",
   "execution_count": null,
   "metadata": {
    "scrolled": true
   },
   "outputs": [],
   "source": [
    "print(h2o_gridSearch.get_grid(sort_by=\"mse\"))"
   ]
  },
  {
   "cell_type": "markdown",
   "metadata": {},
   "source": [
    "Now tell me who is going to win ? one with greater epochs or with lower dropout or something else ?"
   ]
  },
  {
   "cell_type": "code",
   "execution_count": null,
   "metadata": {
    "collapsed": true
   },
   "outputs": [],
   "source": [
    " hyper_parameters = {'input_dropout_ratio':[0.1,0.2,0.5,0.7],'epochs':[10,20,30,40]}\n",
    "\n",
    "h2o_gridSearch = H2OGridSearch(H2ODeepLearningEstimator(activation=\"RectifierWithDropout\",\n",
    "                                  hidden=[32,32,32],\n",
    "                                  autoencoder=True,sparse=True,l1=1e-5,epochs=10),hyper_parameters)\n",
    "\n",
    "h2o_gridSearch.train(x=train.names,training_frame=train,validation_frame=test)\n",
    "    "
   ]
  },
  {
   "cell_type": "code",
   "execution_count": null,
   "metadata": {
    "collapsed": true
   },
   "outputs": [],
   "source": [
    "#Lets do cross validation\n",
    "\n",
    "model = H2ODeepLearningEstimator(activation=\"RectifierWithDropout\",\n",
    "                                  hidden=[32,32,32],\n",
    "                                  autoencoder=True,input_dropout_ratio=0.2,sparse=True,l1=1e-5,epochs=10,nfolds=10)\n",
    "model.train(x=train.names,training_frame=train,validation_frame=test)\n",
    "\n",
    "print(h2o.auc(model, xval = TRUE))"
   ]
  }
 ],
 "metadata": {
  "kernelspec": {
   "display_name": "Python 3",
   "language": "python",
   "name": "python3"
  },
  "language_info": {
   "codemirror_mode": {
    "name": "ipython",
    "version": 3
   },
   "file_extension": ".py",
   "mimetype": "text/x-python",
   "name": "python",
   "nbconvert_exporter": "python",
   "pygments_lexer": "ipython3",
   "version": "3.6.2"
  }
 },
 "nbformat": 4,
 "nbformat_minor": 2
}
